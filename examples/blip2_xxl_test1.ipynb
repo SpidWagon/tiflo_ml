{
 "cells": [
  {
   "cell_type": "code",
   "execution_count": 1,
   "id": "bd367deb-843d-426b-a1ca-16026853b794",
   "metadata": {},
   "outputs": [
    {
     "data": {
      "application/vnd.jupyter.widget-view+json": {
       "model_id": "f71061814fee4b7584b86e203b1b8aae",
       "version_major": 2,
       "version_minor": 0
      },
      "text/plain": [
       "VBox(children=(HTML(value='<center> <img\\nsrc=https://huggingface.co/front/assets/huggingface_logo-noborder.sv…"
      ]
     },
     "metadata": {},
     "output_type": "display_data"
    }
   ],
   "source": [
    "!pip install huggingface_hub --quiet\n",
    "from huggingface_hub import login\n",
    "login()"
   ]
  },
  {
   "cell_type": "code",
   "execution_count": 4,
   "id": "7a3d6846-8594-4417-b65a-fac338436ffa",
   "metadata": {},
   "outputs": [
    {
     "name": "stdout",
     "output_type": "stream",
     "text": [
      "Looking in indexes: https://download.pytorch.org/whl/cu118, https://pypi.ngc.nvidia.com\n",
      "Requirement already satisfied: torch in /opt/conda/lib/python3.11/site-packages (2.2.2+cu121)\n",
      "Collecting torch\n",
      "  Downloading https://download.pytorch.org/whl/cu118/torch-2.7.1%2Bcu118-cp311-cp311-manylinux_2_28_x86_64.whl.metadata (28 kB)\n",
      "Requirement already satisfied: torchvision in /opt/conda/lib/python3.11/site-packages (0.17.2+cu121)\n",
      "Collecting torchvision\n",
      "  Downloading https://download.pytorch.org/whl/cu118/torchvision-0.22.1%2Bcu118-cp311-cp311-manylinux_2_28_x86_64.whl.metadata (6.1 kB)\n",
      "Requirement already satisfied: filelock in /opt/conda/lib/python3.11/site-packages (from torch) (3.13.3)\n",
      "Requirement already satisfied: typing-extensions>=4.10.0 in /opt/conda/lib/python3.11/site-packages (from torch) (4.11.0)\n",
      "Collecting sympy>=1.13.3 (from torch)\n",
      "  Downloading https://download.pytorch.org/whl/sympy-1.13.3-py3-none-any.whl.metadata (12 kB)\n",
      "Requirement already satisfied: networkx in /opt/conda/lib/python3.11/site-packages (from torch) (3.3)\n",
      "Requirement already satisfied: jinja2 in /opt/conda/lib/python3.11/site-packages (from torch) (3.1.3)\n",
      "Requirement already satisfied: fsspec in /opt/conda/lib/python3.11/site-packages (from torch) (2024.3.1)\n",
      "Collecting nvidia-cuda-nvrtc-cu11==11.8.89 (from torch)\n",
      "  Downloading https://download.pytorch.org/whl/cu118/nvidia_cuda_nvrtc_cu11-11.8.89-py3-none-manylinux1_x86_64.whl (23.2 MB)\n",
      "\u001b[2K     \u001b[90m━━━━━━━━━━━━━━━━━━━━━━━━━━━━━━━━━━━━━━━━\u001b[0m \u001b[32m23.2/23.2 MB\u001b[0m \u001b[31m50.0 MB/s\u001b[0m eta \u001b[36m0:00:00\u001b[0ma \u001b[36m0:00:01\u001b[0m\n",
      "\u001b[?25hCollecting nvidia-cuda-runtime-cu11==11.8.89 (from torch)\n",
      "  Downloading https://download.pytorch.org/whl/cu118/nvidia_cuda_runtime_cu11-11.8.89-py3-none-manylinux1_x86_64.whl (875 kB)\n",
      "\u001b[2K     \u001b[90m━━━━━━━━━━━━━━━━━━━━━━━━━━━━━━━━━━━━━━\u001b[0m \u001b[32m875.6/875.6 kB\u001b[0m \u001b[31m72.5 MB/s\u001b[0m eta \u001b[36m0:00:00\u001b[0m\n",
      "\u001b[?25hCollecting nvidia-cuda-cupti-cu11==11.8.87 (from torch)\n",
      "  Downloading https://download.pytorch.org/whl/cu118/nvidia_cuda_cupti_cu11-11.8.87-py3-none-manylinux1_x86_64.whl (13.1 MB)\n",
      "\u001b[2K     \u001b[90m━━━━━━━━━━━━━━━━━━━━━━━━━━━━━━━━━━━━━━━━\u001b[0m \u001b[32m13.1/13.1 MB\u001b[0m \u001b[31m66.8 MB/s\u001b[0m eta \u001b[36m0:00:00\u001b[0m\n",
      "\u001b[?25hCollecting nvidia-cudnn-cu11==9.1.0.70 (from torch)\n",
      "  Downloading https://download.pytorch.org/whl/cu118/nvidia_cudnn_cu11-9.1.0.70-py3-none-manylinux2014_x86_64.whl (663.9 MB)\n",
      "\u001b[2K     \u001b[90m━━━━━━━━━━━━━━━━━━━━━━━━━━━━━━━━━━━━━━\u001b[0m \u001b[32m663.9/663.9 MB\u001b[0m \u001b[31m66.0 MB/s\u001b[0m eta \u001b[36m0:00:00\u001b[0m00:01\u001b[0m00:01\u001b[0m\n",
      "\u001b[?25hCollecting nvidia-cublas-cu11==11.11.3.6 (from torch)\n",
      "  Downloading https://download.pytorch.org/whl/cu118/nvidia_cublas_cu11-11.11.3.6-py3-none-manylinux1_x86_64.whl (417.9 MB)\n",
      "\u001b[2K     \u001b[90m━━━━━━━━━━━━━━━━━━━━━━━━━━━━━━━━━━━━━━\u001b[0m \u001b[32m417.9/417.9 MB\u001b[0m \u001b[31m66.1 MB/s\u001b[0m eta \u001b[36m0:00:00\u001b[0ma \u001b[36m0:00:01\u001b[0m\n",
      "\u001b[?25hCollecting nvidia-cufft-cu11==10.9.0.58 (from torch)\n",
      "  Downloading https://download.pytorch.org/whl/cu118/nvidia_cufft_cu11-10.9.0.58-py3-none-manylinux1_x86_64.whl (168.4 MB)\n",
      "\u001b[2K     \u001b[90m━━━━━━━━━━━━━━━━━━━━━━━━━━━━━━━━━━━━━━\u001b[0m \u001b[32m168.4/168.4 MB\u001b[0m \u001b[31m59.8 MB/s\u001b[0m eta \u001b[36m0:00:00\u001b[0ma \u001b[36m0:00:01\u001b[0m\n",
      "\u001b[?25hCollecting nvidia-curand-cu11==10.3.0.86 (from torch)\n",
      "  Downloading https://download.pytorch.org/whl/cu118/nvidia_curand_cu11-10.3.0.86-py3-none-manylinux1_x86_64.whl (58.1 MB)\n",
      "\u001b[2K     \u001b[90m━━━━━━━━━━━━━━━━━━━━━━━━━━━━━━━━━━━━━━━━\u001b[0m \u001b[32m58.1/58.1 MB\u001b[0m \u001b[31m66.5 MB/s\u001b[0m eta \u001b[36m0:00:00\u001b[0ma \u001b[36m0:00:01\u001b[0m\n",
      "\u001b[?25hCollecting nvidia-cusolver-cu11==11.4.1.48 (from torch)\n",
      "  Downloading https://download.pytorch.org/whl/cu118/nvidia_cusolver_cu11-11.4.1.48-py3-none-manylinux1_x86_64.whl (128.2 MB)\n",
      "\u001b[2K     \u001b[90m━━━━━━━━━━━━━━━━━━━━━━━━━━━━━━━━━━━━━━\u001b[0m \u001b[32m128.2/128.2 MB\u001b[0m \u001b[31m66.3 MB/s\u001b[0m eta \u001b[36m0:00:00\u001b[0ma \u001b[36m0:00:01\u001b[0m\n",
      "\u001b[?25hCollecting nvidia-cusparse-cu11==11.7.5.86 (from torch)\n",
      "  Downloading https://download.pytorch.org/whl/cu118/nvidia_cusparse_cu11-11.7.5.86-py3-none-manylinux1_x86_64.whl (204.1 MB)\n",
      "\u001b[2K     \u001b[90m━━━━━━━━━━━━━━━━━━━━━━━━━━━━━━━━━━━━━━\u001b[0m \u001b[32m204.1/204.1 MB\u001b[0m \u001b[31m60.8 MB/s\u001b[0m eta \u001b[36m0:00:00\u001b[0ma \u001b[36m0:00:01\u001b[0m\n",
      "\u001b[?25hCollecting nvidia-nccl-cu11==2.21.5 (from torch)\n",
      "  Downloading https://download.pytorch.org/whl/cu118/nvidia_nccl_cu11-2.21.5-py3-none-manylinux2014_x86_64.whl (147.8 MB)\n",
      "\u001b[2K     \u001b[90m━━━━━━━━━━━━━━━━━━━━━━━━━━━━━━━━━━━━━━\u001b[0m \u001b[32m147.8/147.8 MB\u001b[0m \u001b[31m66.2 MB/s\u001b[0m eta \u001b[36m0:00:00\u001b[0ma \u001b[36m0:00:01\u001b[0m\n",
      "\u001b[?25hCollecting nvidia-nvtx-cu11==11.8.86 (from torch)\n",
      "  Downloading https://download.pytorch.org/whl/cu118/nvidia_nvtx_cu11-11.8.86-py3-none-manylinux1_x86_64.whl (99 kB)\n",
      "Collecting triton==3.3.1 (from torch)\n",
      "  Downloading https://download.pytorch.org/whl/triton-3.3.1-cp311-cp311-manylinux_2_27_x86_64.manylinux_2_28_x86_64.whl.metadata (1.5 kB)\n",
      "Requirement already satisfied: setuptools>=40.8.0 in /opt/conda/lib/python3.11/site-packages (from triton==3.3.1->torch) (69.2.0)\n",
      "Requirement already satisfied: numpy in /opt/conda/lib/python3.11/site-packages (from torchvision) (1.26.4)\n",
      "Requirement already satisfied: pillow!=8.3.*,>=5.3.0 in /opt/conda/lib/python3.11/site-packages (from torchvision) (10.3.0)\n",
      "Requirement already satisfied: mpmath<1.4,>=1.1.0 in /opt/conda/lib/python3.11/site-packages (from sympy>=1.13.3->torch) (1.3.0)\n",
      "Requirement already satisfied: MarkupSafe>=2.0 in /opt/conda/lib/python3.11/site-packages (from jinja2->torch) (2.1.5)\n",
      "Downloading https://download.pytorch.org/whl/cu118/torch-2.7.1%2Bcu118-cp311-cp311-manylinux_2_28_x86_64.whl (905.3 MB)\n",
      "\u001b[2K   \u001b[90m━━━━━━━━━━━━━━━━━━━━━━━━━━━━━━━━━━━━━━━━\u001b[0m \u001b[32m905.3/905.3 MB\u001b[0m \u001b[31m66.2 MB/s\u001b[0m eta \u001b[36m0:00:00\u001b[0m00:01\u001b[0m00:01\u001b[0m\n",
      "\u001b[?25hDownloading https://download.pytorch.org/whl/triton-3.3.1-cp311-cp311-manylinux_2_27_x86_64.manylinux_2_28_x86_64.whl (155.7 MB)\n",
      "\u001b[2K   \u001b[90m━━━━━━━━━━━━━━━━━━━━━━━━━━━━━━━━━━━━━━━━\u001b[0m \u001b[32m155.7/155.7 MB\u001b[0m \u001b[31m59.0 MB/s\u001b[0m eta \u001b[36m0:00:00\u001b[0m00:01\u001b[0m00:01\u001b[0m\n",
      "\u001b[?25hDownloading https://download.pytorch.org/whl/cu118/torchvision-0.22.1%2Bcu118-cp311-cp311-manylinux_2_28_x86_64.whl (6.7 MB)\n",
      "\u001b[2K   \u001b[90m━━━━━━━━━━━━━━━━━━━━━━━━━━━━━━━━━━━━━━━━\u001b[0m \u001b[32m6.7/6.7 MB\u001b[0m \u001b[31m66.3 MB/s\u001b[0m eta \u001b[36m0:00:00\u001b[0m\n",
      "\u001b[?25hDownloading https://download.pytorch.org/whl/sympy-1.13.3-py3-none-any.whl (6.2 MB)\n",
      "\u001b[2K   \u001b[90m━━━━━━━━━━━━━━━━━━━━━━━━━━━━━━━━━━━━━━━━\u001b[0m \u001b[32m6.2/6.2 MB\u001b[0m \u001b[31m68.7 MB/s\u001b[0m eta \u001b[36m0:00:00\u001b[0m\n",
      "\u001b[?25hInstalling collected packages: triton, sympy, nvidia-nvtx-cu11, nvidia-nccl-cu11, nvidia-cusparse-cu11, nvidia-curand-cu11, nvidia-cufft-cu11, nvidia-cuda-runtime-cu11, nvidia-cuda-nvrtc-cu11, nvidia-cuda-cupti-cu11, nvidia-cublas-cu11, nvidia-cusolver-cu11, nvidia-cudnn-cu11, torch, torchvision\n",
      "\u001b[2K  Attempting uninstall: triton\n",
      "\u001b[2K    Found existing installation: triton 2.2.0\n",
      "\u001b[2K    Uninstalling triton-2.2.0:\n",
      "\u001b[2K      Successfully uninstalled triton-2.2.0━━━━━\u001b[0m \u001b[32m 0/15\u001b[0m [triton]\n",
      "\u001b[2K  Attempting uninstall: sympy━━━━━━━━━━━━━━━━━━━\u001b[0m \u001b[32m 0/15\u001b[0m [triton]\n",
      "\u001b[2K    Found existing installation: sympy 1.12━\u001b[0m \u001b[32m 0/15\u001b[0m [triton]\n",
      "\u001b[2K    Uninstalling sympy-1.12:m━━━━━━━━━━━━━━━━━━━━━━━━━━━━━━━━━━━━━\u001b[0m \u001b[32m 1/15\u001b[0m [sympy]\n",
      "\u001b[2K      Successfully uninstalled sympy-1.12━━━━━━━━━━━━━━━━━━━━━━━━━\u001b[0m \u001b[32m 1/15\u001b[0m [sympy]\n",
      "\u001b[2K  Attempting uninstall: torch━━━━━━━━━━━\u001b[0m\u001b[90m╺\u001b[0m\u001b[90m━━━━━━━\u001b[0m \u001b[32m12/15\u001b[0m [nvidia-cudnn-cu11]11]1]1]\n",
      "\u001b[2K    Found existing installation: torch 2.2.2+cu121\u001b[90m━━━━━━━\u001b[0m \u001b[32m12/15\u001b[0m [nvidia-cudnn-cu11]\n",
      "\u001b[2K    Uninstalling torch-2.2.2+cu121:━━━━━━━\u001b[0m\u001b[91m╸\u001b[0m\u001b[90m━━━━━\u001b[0m \u001b[32m13/15\u001b[0m [torch]nn-cu11]\n",
      "\u001b[2K      Successfully uninstalled torch-2.2.2+cu12191m╸\u001b[0m\u001b[90m━━━━━\u001b[0m \u001b[32m13/15\u001b[0m [torch]\n",
      "\u001b[2K  Attempting uninstall: torchvision━━━━━━━\u001b[0m\u001b[91m╸\u001b[0m\u001b[90m━━━━━\u001b[0m \u001b[32m13/15\u001b[0m [torch]\n",
      "\u001b[2K    Found existing installation: torchvision 0.17.2+cu121━━━━━\u001b[0m \u001b[32m13/15\u001b[0m [torch]\n",
      "\u001b[2K    Uninstalling torchvision-0.17.2+cu121:\u001b[91m╸\u001b[0m\u001b[90m━━━━━\u001b[0m \u001b[32m13/15\u001b[0m [torch]\n",
      "\u001b[2K      Successfully uninstalled torchvision-0.17.2+cu121\u001b[0m\u001b[90m━━\u001b[0m \u001b[32m14/15\u001b[0m [torchvision]\n",
      "\u001b[2K   \u001b[90m━━━━━━━━━━━━━━━━━━━━━━━━━━━━━━━━━━━━━━━━\u001b[0m \u001b[32m15/15\u001b[0m [torchvision]\u001b[0m [torchvision]\n",
      "\u001b[1A\u001b[2K\u001b[31mERROR: pip's dependency resolver does not currently take into account all the packages that are installed. This behaviour is the source of the following dependency conflicts.\n",
      "torchaudio 2.2.2+cu121 requires torch==2.2.2, but you have torch 2.7.1+cu118 which is incompatible.\u001b[0m\u001b[31m\n",
      "\u001b[0mSuccessfully installed nvidia-cublas-cu11-11.11.3.6 nvidia-cuda-cupti-cu11-11.8.87 nvidia-cuda-nvrtc-cu11-11.8.89 nvidia-cuda-runtime-cu11-11.8.89 nvidia-cudnn-cu11-9.1.0.70 nvidia-cufft-cu11-10.9.0.58 nvidia-curand-cu11-10.3.0.86 nvidia-cusolver-cu11-11.4.1.48 nvidia-cusparse-cu11-11.7.5.86 nvidia-nccl-cu11-2.21.5 nvidia-nvtx-cu11-11.8.86 sympy-1.13.3 torch-2.7.1+cu118 torchvision-0.22.1+cu118 triton-3.3.1\n",
      "Looking in indexes: https://download.pytorch.org/whl/cu118, https://pypi.ngc.nvidia.com\n",
      "Requirement already satisfied: torch==2.7.1 in /opt/conda/lib/python3.11/site-packages (2.7.1+cu118)\n",
      "Collecting torchvision==0.15.2\n",
      "  Downloading https://download.pytorch.org/whl/cu118/torchvision-0.15.2%2Bcu118-cp311-cp311-linux_x86_64.whl (6.1 MB)\n",
      "\u001b[2K     \u001b[90m━━━━━━━━━━━━━━━━━━━━━━━━━━━━━━━━━━━━━━━━\u001b[0m \u001b[32m6.1/6.1 MB\u001b[0m \u001b[31m28.1 MB/s\u001b[0m eta \u001b[36m0:00:00\u001b[0m \u001b[36m0:00:01\u001b[0m\n",
      "\u001b[?25hRequirement already satisfied: filelock in /opt/conda/lib/python3.11/site-packages (from torch==2.7.1) (3.13.3)\n",
      "Requirement already satisfied: typing-extensions>=4.10.0 in /opt/conda/lib/python3.11/site-packages (from torch==2.7.1) (4.11.0)\n",
      "Requirement already satisfied: sympy>=1.13.3 in /opt/conda/lib/python3.11/site-packages (from torch==2.7.1) (1.13.3)\n",
      "Requirement already satisfied: networkx in /opt/conda/lib/python3.11/site-packages (from torch==2.7.1) (3.3)\n",
      "Requirement already satisfied: jinja2 in /opt/conda/lib/python3.11/site-packages (from torch==2.7.1) (3.1.3)\n",
      "Requirement already satisfied: fsspec in /opt/conda/lib/python3.11/site-packages (from torch==2.7.1) (2024.3.1)\n",
      "Requirement already satisfied: nvidia-cuda-nvrtc-cu11==11.8.89 in /opt/conda/lib/python3.11/site-packages (from torch==2.7.1) (11.8.89)\n",
      "Requirement already satisfied: nvidia-cuda-runtime-cu11==11.8.89 in /opt/conda/lib/python3.11/site-packages (from torch==2.7.1) (11.8.89)\n",
      "Requirement already satisfied: nvidia-cuda-cupti-cu11==11.8.87 in /opt/conda/lib/python3.11/site-packages (from torch==2.7.1) (11.8.87)\n",
      "Requirement already satisfied: nvidia-cudnn-cu11==9.1.0.70 in /opt/conda/lib/python3.11/site-packages (from torch==2.7.1) (9.1.0.70)\n",
      "Requirement already satisfied: nvidia-cublas-cu11==11.11.3.6 in /opt/conda/lib/python3.11/site-packages (from torch==2.7.1) (11.11.3.6)\n",
      "Requirement already satisfied: nvidia-cufft-cu11==10.9.0.58 in /opt/conda/lib/python3.11/site-packages (from torch==2.7.1) (10.9.0.58)\n",
      "Requirement already satisfied: nvidia-curand-cu11==10.3.0.86 in /opt/conda/lib/python3.11/site-packages (from torch==2.7.1) (10.3.0.86)\n",
      "Requirement already satisfied: nvidia-cusolver-cu11==11.4.1.48 in /opt/conda/lib/python3.11/site-packages (from torch==2.7.1) (11.4.1.48)\n",
      "Requirement already satisfied: nvidia-cusparse-cu11==11.7.5.86 in /opt/conda/lib/python3.11/site-packages (from torch==2.7.1) (11.7.5.86)\n",
      "Requirement already satisfied: nvidia-nccl-cu11==2.21.5 in /opt/conda/lib/python3.11/site-packages (from torch==2.7.1) (2.21.5)\n",
      "Requirement already satisfied: nvidia-nvtx-cu11==11.8.86 in /opt/conda/lib/python3.11/site-packages (from torch==2.7.1) (11.8.86)\n",
      "Requirement already satisfied: triton==3.3.1 in /opt/conda/lib/python3.11/site-packages (from torch==2.7.1) (3.3.1)\n",
      "Requirement already satisfied: numpy in /opt/conda/lib/python3.11/site-packages (from torchvision==0.15.2) (1.26.4)\n",
      "Requirement already satisfied: requests in /opt/conda/lib/python3.11/site-packages (from torchvision==0.15.2) (2.31.0)\n",
      "INFO: pip is looking at multiple versions of torchvision to determine which version is compatible with other requirements. This could take a while.\n",
      "Collecting torch==2.7.1\n",
      "  Downloading https://download.pytorch.org/whl/cu118/torch-2.7.1%2Bcu118-cp311-cp311-manylinux_2_28_x86_64.whl.metadata (28 kB)\n",
      "\u001b[31mERROR: Cannot install torch==2.7.1 and torchvision==0.15.2+cu118 because these package versions have conflicting dependencies.\u001b[0m\u001b[31m\n",
      "\u001b[0m\n",
      "The conflict is caused by:\n",
      "    The user requested torch==2.7.1\n",
      "    torchvision 0.15.2+cu118 depends on torch==2.0.1\n",
      "\n",
      "To fix this you could try to:\n",
      "1. loosen the range of package versions you've specified\n",
      "2. remove package versions to allow pip to attempt to solve the dependency conflict\n",
      "\n",
      "\u001b[31mERROR: ResolutionImpossible: for help visit https://pip.pypa.io/en/latest/topics/dependency-resolution/#dealing-with-dependency-conflicts\u001b[0m\u001b[31m\n",
      "\u001b[0m"
     ]
    }
   ],
   "source": [
    "!pip install --upgrade torch torchvision --index-url https://download.pytorch.org/whl/cu118\n",
    "!pip install torch==2.7.1 torchvision==0.15.2 --index-url https://download.pytorch.org/whl/cu118"
   ]
  },
  {
   "cell_type": "code",
   "execution_count": 8,
   "id": "d2663f1b-5742-4779-b377-3c381aa274ce",
   "metadata": {},
   "outputs": [
    {
     "name": "stdout",
     "output_type": "stream",
     "text": [
      "✔ Пути настроены и CSV читается с delimiter= ;\n",
      "Columns: ['image_path', 'caption']\n"
     ]
    }
   ],
   "source": [
    "from pathlib import Path\n",
    "import os, csv, time, json\n",
    "from PIL import Image\n",
    "import torch\n",
    "\n",
    "BASE_DIR   = Path.cwd()\n",
    "DATA_DIR   = BASE_DIR / \"data\"\n",
    "IMAGES_DIR = DATA_DIR / \"images\"\n",
    "ANNOT_CSV  = DATA_DIR / \"annotations.csv\"\n",
    "LOGS_DIR   = BASE_DIR / \"logs\"\n",
    "LOGS_DIR.mkdir(exist_ok=True)\n",
    "\n",
    "assert DATA_DIR.exists(),   f\"Не нашёл {DATA_DIR}\"\n",
    "assert IMAGES_DIR.exists(), f\"Не нашёл {IMAGES_DIR}\"\n",
    "assert ANNOT_CSV.exists(),  f\"Не нашёл {ANNOT_CSV}\"\n",
    "\n",
    "with open(ANNOT_CSV, encoding=\"utf-8\", newline=\"\") as fin:\n",
    "    sample = fin.read(2048)\n",
    "    fin.seek(0)\n",
    "    dialect = csv.Sniffer().sniff(sample, delimiters=[\",\", \";\", \"\\t\"])\n",
    "    reader = csv.DictReader(fin, dialect=dialect)\n",
    "    image_field, ref_field = reader.fieldnames[:2]\n",
    "\n",
    "print(\"✔ Пути настроены и CSV читается с delimiter=\", dialect.delimiter)\n",
    "print(\"Columns:\", reader.fieldnames)"
   ]
  },
  {
   "cell_type": "code",
   "execution_count": 10,
   "id": "d3b9453f-df24-4eb7-80c9-cb18ddb6b205",
   "metadata": {},
   "outputs": [
    {
     "name": "stdout",
     "output_type": "stream",
     "text": [
      "Device: cuda\n"
     ]
    },
    {
     "data": {
      "application/vnd.jupyter.widget-view+json": {
       "model_id": "25190ea3a5964d6eae1dad30eeeac7bf",
       "version_major": 2,
       "version_minor": 0
      },
      "text/plain": [
       "Loading checkpoint shards:   0%|          | 0/2 [00:00<?, ?it/s]"
      ]
     },
     "metadata": {},
     "output_type": "display_data"
    },
    {
     "name": "stderr",
     "output_type": "stream",
     "text": [
      "Device set to use cuda:0\n"
     ]
    },
    {
     "name": "stdout",
     "output_type": "stream",
     "text": [
      "Модели загружены.\n"
     ]
    }
   ],
   "source": [
    "from transformers import (\n",
    "    Blip2Processor, Blip2ForConditionalGeneration,\n",
    "    MarianTokenizer, pipeline\n",
    ")\n",
    "\n",
    "MODEL_NAME = \"Salesforce/blip2-flan-t5-xl\"\n",
    "TRANSLATOR = \"Helsinki-NLP/opus-mt-en-ru\"\n",
    "\n",
    "device = \"cuda\" if torch.cuda.is_available() else \"cpu\"\n",
    "print(\"Device:\", device)\n",
    "\n",
    "processor = Blip2Processor.from_pretrained(MODEL_NAME, use_auth_token=True)\n",
    "model     = Blip2ForConditionalGeneration.from_pretrained(MODEL_NAME, use_auth_token=True).to(device)\n",
    "\n",
    "tokenizer_mt = MarianTokenizer.from_pretrained(TRANSLATOR, use_auth_token=True)\n",
    "translator   = pipeline(\n",
    "    \"translation_en_to_ru\",\n",
    "    model=TRANSLATOR,\n",
    "    tokenizer=tokenizer_mt,\n",
    "    device=0 if device==\"cuda\" else -1,\n",
    "    framework=\"pt\"\n",
    ")\n",
    "\n",
    "print(\"Модели загружены.\")"
   ]
  },
  {
   "cell_type": "code",
   "execution_count": 11,
   "id": "d146c186-0968-4b72-bffb-8878c3ee20b5",
   "metadata": {},
   "outputs": [],
   "source": [
    "PROMPT = (\n",
    "    \"You are an AI assistant that generates visual descriptions for blind users. \"\n",
    "    \"Describe the image in 2–3 clear, objective sentences, mentioning all key objects, \"\n",
    "    \"their colors, shapes, textures, and spatial relationships, as well as any relevant \"\n",
    "    \"background context. Avoid subjective or emotional language.\"\n",
    ")"
   ]
  },
  {
   "cell_type": "code",
   "execution_count": 12,
   "id": "6228d003-422a-4033-b1d9-076e962f164c",
   "metadata": {},
   "outputs": [
    {
     "name": "stdout",
     "output_type": "stream",
     "text": [
      "Logging to: /home/jovyan/work/tiflo_caption/logs/run_notebook_20250703_121538.jsonl\n",
      "{'image': '1000092795.jpg', 'reference': 'Двое молодых парней с растрепанными волосами смотрят на свои руки, проводя время во дворе.', 'blip2_en': 'Two men are skateboarding in a garden', 'ru_translated': 'Двое мужчин скейтбордируют в саду.', 'latency_blip2_s': 0.496, 'latency_mt_s': 0.16}\n",
      "{'image': '10002456.jpg', 'reference': 'Несколько мужчин в касках управляют гигантской подъемной системой.', 'blip2_en': 'a group of people are working on a crane', 'ru_translated': 'группа людей работает над краном', 'latency_blip2_s': 0.453, 'latency_mt_s': 0.055}\n",
      "{'image': '1000268201.jpg', 'reference': 'Ребёнок в розовом платье поднимается по лестнице в прихожей.', 'blip2_en': 'a little girl is standing on the steps of a chicken coop', 'ru_translated': 'маленькая девочка стоит на ступеньках курятника', 'latency_blip2_s': 0.471, 'latency_mt_s': 0.098}\n",
      "{'image': '1000344755.jpg', 'reference': 'Кто-то в синей рубашке и шляпе стоит на лестнице и опирается на окно.', 'blip2_en': 'a man is climbing a ladder to clean the windows of a building', 'ru_translated': 'Человек поднимается по лестнице, чтобы очистить окна здания.', 'latency_blip2_s': 0.512, 'latency_mt_s': 0.099}\n",
      "{'image': '1000366164.jpg', 'reference': 'Двое мужчин, один в серой, другой в чёрной рубашке, стоят возле плиты.', 'blip2_en': 'two men are preparing food in a kitchen', 'ru_translated': 'Двое мужчин готовят еду на кухне.', 'latency_blip2_s': 0.526, 'latency_mt_s': 0.077}\n",
      "{'image': '1000523639.jpg', 'reference': 'Двое на фото играют на гитаре, а третий подшучивает над ними.', 'blip2_en': 'a man is holding a guitar', 'ru_translated': 'Человек держит гитару.', 'latency_blip2_s': 0.543, 'latency_mt_s': 0.049}\n",
      "{'image': '1000919630.jpg', 'reference': 'Мужчина сидит на стуле, держа большую плюшевую игрушку льва.', 'blip2_en': 'a man is sitting on a chair next to a stuffed lion', 'ru_translated': 'Человек сидит на стуле рядом с плюшевым львом.', 'latency_blip2_s': 0.519, 'latency_mt_s': 0.113}\n",
      "{'image': '10010052.jpg', 'reference': 'Девочка на роликах разговаривает по телефону, стоя на парковке.', 'blip2_en': 'a woman on skateboards talking on a cell phone', 'ru_translated': 'женщина на скейтбордах разговаривает по мобильному телефону', 'latency_blip2_s': 0.47, 'latency_mt_s': 0.108}\n",
      "{'image': '1001465944.jpg', 'reference': 'Азиат в чёрном костюме стоит рядом с женщиной с тёмными и с женщиной с каштановыми волосами.', 'blip2_en': 'a group of people are standing in front of a building', 'ru_translated': 'группа людей стоит перед зданием', 'latency_blip2_s': 0.616, 'latency_mt_s': 0.05}\n",
      "{'image': '1001545525.jpg', 'reference': 'Двое мужчин в Германии прыгают через перила одновременно, без рубашек.', 'blip2_en': 'a man is doing a trick on a skateboard', 'ru_translated': 'мужчина делает трюк на скейтборде', 'latency_blip2_s': 0.547, 'latency_mt_s': 0.081}\n"
     ]
    },
    {
     "name": "stderr",
     "output_type": "stream",
     "text": [
      "You seem to be using the pipelines sequentially on GPU. In order to maximize efficiency please use a dataset\n"
     ]
    },
    {
     "name": "stdout",
     "output_type": "stream",
     "text": [
      "{'image': '1001573224.jpg', 'reference': 'Пятеро танцоров балета застыли на середине прыжка в танцевальной студии , в окно которой проникал солнечный свет.', 'blip2_en': 'a group of dancers in black leotards are performing in a dance studio', 'ru_translated': 'группа танцовщиц в чёрных леотардах выступает в танцевальной студии', 'latency_blip2_s': 0.611, 'latency_mt_s': 0.138}\n",
      "{'image': '1001633352.jpg', 'reference': 'Трое молодых людей и молодая женщина в кроссовках подпрыгивают в воздухе на верхней площадке бетонной лестницы.', 'blip2_en': 'a group of people are jumping up and down stairs on a skateboard', 'ru_translated': 'группа людей прыгает вверх и вниз по лестнице на скейтборде', 'latency_blip2_s': 0.497, 'latency_mt_s': 0.124}\n",
      "{'image': '1001773457.jpg', 'reference': 'Черная собака и белая с коричневыми пятнами собака смотрят друг на друга на улице.', 'blip2_en': 'two dogs are playing with a frisbee on the road', 'ru_translated': 'Две собаки играют с фрисби на дороге.', 'latency_blip2_s': 0.472, 'latency_mt_s': 0.072}\n",
      "{'image': '1001896054.jpg', 'reference': 'Мужчина в светоотражающей защитной одежде и с защитными наушниками ведет трактор John Deere по дороге.', 'blip2_en': 'a man is driving a tractor on a road', 'ru_translated': 'мужчина ездит на тракторе по дороге.', 'latency_blip2_s': 0.418, 'latency_mt_s': 0.07}\n",
      "{'image': '100197432.jpg', 'reference': 'Несколько женщин стоят перед автобусом , за которым видны здания .', 'blip2_en': 'a group of people are walking down a street with a bus in the background', 'ru_translated': 'группа людей идет по улице с автобусом на заднем плане', 'latency_blip2_s': 0.571, 'latency_mt_s': 0.083}\n",
      "[WARN] нет файла: 100207720.jpg\n",
      "{'image': '1002674143.jpg', 'reference': 'Маленькая девочка на траве играет пальчиковыми красками перед белым холстом с нарисованной на нем радугой.', 'blip2_en': 'a little girl is painting a rainbow on the ground', 'ru_translated': 'маленькая девочка рисует радугу на земле', 'latency_blip2_s': 0.495, 'latency_mt_s': 0.076}\n",
      "{'image': '1003163366.jpg', 'reference': 'мужчина спит на скамейке на улице , а рядом с ним сидит бело-черная собака.', 'blip2_en': 'a man is laying on a bench next to a dog', 'ru_translated': 'Человек лежит на скамейке рядом с собакой.', 'latency_blip2_s': 0.563, 'latency_mt_s': 0.075}\n",
      "{'image': '1003420127.jpg', 'reference': 'Группа взрослых в доме , сидящих на стульях , расставленных по кругу , и играющих на музыкальных инструментах .', 'blip2_en': 'a group of people are sitting around a table in a living room', 'ru_translated': 'группа людей сидит за столом в гостиной.', 'latency_blip2_s': 0.495, 'latency_mt_s': 0.076}\n",
      "{'image': '1003428081.jpg', 'reference': 'Две женщины , обе в очках, играют на кларнетах , а пожилая женщина - на струнном инструменте.', 'blip2_en': 'a group of people are playing music in a living room', 'ru_translated': 'группа людей играет музыку в гостиной.', 'latency_blip2_s': 0.447, 'latency_mt_s': 0.059}\n",
      "{'image': '100444898.jpg', 'reference': 'Человек в сером стоит один на каком-то сооружении на открытом воздухе в темноте.', 'blip2_en': 'a man is standing on a bridge at night', 'ru_translated': 'Человек стоит на мосту ночью', 'latency_blip2_s': 0.422, 'latency_mt_s': 0.055}\n",
      "{'image': '1005216151.jpg', 'reference': 'Человек в сером стоит в одиночестве на сооружении на открытом воздухе в темноте .Мужчина в белой футболке смотрит в камеру в окружении толпы возле станции метро .', 'blip2_en': 'a man is walking down a busy street with a cigarette in his hand', 'ru_translated': 'Человек идет по оживленной улице с сигаретой в руке.', 'latency_blip2_s': 0.546, 'latency_mt_s': 0.081}\n",
      "{'image': '100577935.jpg', 'reference': 'Мужчина с козлиной бородкой, в черной рубашке и белых латексных перчатках с помощью тату-пистолета наносит татуировку кому-то на спину.', 'blip2_en': 'a man is getting a tattoo on his back', 'ru_translated': 'мужчина получает татуировку на спине.', 'latency_blip2_s': 0.402, 'latency_mt_s': 0.066}\n",
      "{'image': '1006452823.jpg', 'reference': 'двое детей , девочка и мальчик , упражняются в письме.', 'blip2_en': 'two children are playing in the sand', 'ru_translated': 'Двое детей играют в песке.', 'latency_blip2_s': 0.449, 'latency_mt_s': 0.054}\n",
      "{'image': '100652400.jpg', 'reference': 'Мужчина в синей каске и оранжевом жилете безопасности стоит на перекрестке, держа в руках флаг.', 'blip2_en': 'a construction worker is standing on a city street with a red flag', 'ru_translated': 'строительный работник стоит на городской улице с красным флагом', 'latency_blip2_s': 0.493, 'latency_mt_s': 0.076}\n",
      "{'image': '1007129816.jpg', 'reference': 'Мужчина с проколотыми ушами одет в очки и оранжевую шляпу.', 'blip2_en': 'a man is wearing a crocheted hat', 'ru_translated': 'мужчина в вязаной шляпе.', 'latency_blip2_s': 0.473, 'latency_mt_s': 0.066}\n",
      "{'image': '100716317.jpg', 'reference': 'Человек с длинными седыми волосами, в бежево-белом берете и синем плаще, рисует рыночный пейзаж в окружении других художников и картин.', 'blip2_en': 'a man is painting a painting on a easel', 'ru_translated': 'Человек рисует картину на мольберте.', 'latency_blip2_s': 0.54, 'latency_mt_s': 0.072}\n",
      "{'image': '1007205537.jpg', 'reference': 'Мужчина стоит на одной ноге , держась за мусорную корзину.', 'blip2_en': 'a man is pushing a cart in the rain', 'ru_translated': 'Человек толкает тележку под дождем.', 'latency_blip2_s': 0.452, 'latency_mt_s': 0.072}\n",
      "{'image': '1007320043.jpg', 'reference': 'Маленький ребенок цепляется за красные канаты на детской площадке.', 'blip2_en': 'a girl is climbing a red rope in a playground', 'ru_translated': 'Девочка забирается на красную верёвку на игровой площадке', 'latency_blip2_s': 0.474, 'latency_mt_s': 0.125}\n",
      "{'image': '100759042.jpg', 'reference': 'Молодой человек в пиджаке держит в руках зубочистку с чем-то на конце', 'blip2_en': 'a young man is sitting on a train with a piece of paper in his hand', 'ru_translated': 'Молодой человек сидит в поезде с куском бумаги в руке.', 'latency_blip2_s': 0.566, 'latency_mt_s': 0.109}\n",
      "{'image': '10082347.jpg', 'reference': 'Молодой светловолосый мужчина в сине-желтой куртке улыбается, стоя перед сеткой.', 'blip2_en': 'a man is holding a tennis racket', 'ru_translated': 'Человек держит теннисную ракетку', 'latency_blip2_s': 0.541, 'latency_mt_s': 0.065}\n",
      "{'image': '10082348.jpg', 'reference': 'Мужчина в бейсболке и черной куртке стоит в ванной с кружкой кофе в руках.', 'blip2_en': 'a man is leaning against a urinal with a cup of coffee', 'ru_translated': 'мужчина склоняется к писсуару с чашкой кофе', 'latency_blip2_s': 0.585, 'latency_mt_s': 0.099}\n",
      "{'image': '100845130.jpg', 'reference': 'Пять человек прогуливаются на фоне разноцветного неба.', 'blip2_en': 'a group of people are walking on a beach at sunset', 'ru_translated': 'группа людей гуляет по пляжу на закате', 'latency_blip2_s': 0.432, 'latency_mt_s': 0.082}\n",
      "{'image': '10090841.jpg', 'reference': 'Черноволосый мужчина сидит в ресторане с бокалом пива.', 'blip2_en': 'a man is sitting at a table with a beer in his hand', 'ru_translated': 'Человек сидит за столом с пивом в руке.', 'latency_blip2_s': 0.499, 'latency_mt_s': 0.087}\n",
      "{'image': '1009434119.jpg', 'reference': 'Черно-белая собака бегает по заросшему травой саду, окруженному белым забором.', 'blip2_en': 'a dog is running after a frisbee', 'ru_translated': 'Собака бегает за фрисби.', 'latency_blip2_s': 0.473, 'latency_mt_s': 0.07}\n",
      "{'image': '1009692167.jpg', 'reference': 'Полицейский в светоотражающем жилете стоит перед своим фургоном со своей собакой.', 'blip2_en': 'a police officer is standing next to a dog in front of a van', 'ru_translated': 'Сотрудник полиции стоит рядом с собакой перед фургоном.', 'latency_blip2_s': 0.564, 'latency_mt_s': 0.081}\n",
      "{'image': '101001624.jpg', 'reference': 'Из-за \"белого\"\" снега на земле, кажется, почти не видно деталей того, как мужчина, одетый для холодной погоды в плотную куртку и красную шляпу, едет на велосипеде по пригородному району.\"', 'blip2_en': 'a person is riding a bike down a snowy street', 'ru_translated': 'человек едет на велосипеде вниз по снежной улице', 'latency_blip2_s': 0.449, 'latency_mt_s': 0.103}\n",
      "{'image': '1010031975.jpg', 'reference': 'Пятеро мужчин , одинаково одетых в белые рубашки , галстуки и черные брюки , беседуют в кузове открытого фургона.', 'blip2_en': 'a group of men are standing in front of a van', 'ru_translated': 'группа людей стоит перед фургоном', 'latency_blip2_s': 0.438, 'latency_mt_s': 0.064}\n",
      "{'image': '1010087179.jpg', 'reference': 'Загорелый мужчина в шляпе, надетой задом наперед, смотрит в камеру, прогуливаясь по фабрике.', 'blip2_en': 'a man is working on a machine in a factory', 'ru_translated': 'человек работает на машине на фабрике', 'latency_blip2_s': 0.452, 'latency_mt_s': 0.06}\n",
      "{'image': '1010087623.jpg', 'reference': 'Мужчина белой расы в черной рубашке с короткими рукавами и темнокожая женщина в платье без рукавов работают на конвейере.', 'blip2_en': 'a man and a woman are working in a factory', 'ru_translated': 'мужчина и женщина работают на фабрике', 'latency_blip2_s': 0.472, 'latency_mt_s': 0.054}\n",
      "{'image': '10101477.jpg', 'reference': 'Мужчина в бело-голубом наряде, с метлой в руках , на фоне традиционной азиатской архитектуры .', 'blip2_en': 'a man is wearing a kimono and a woman is wearing a kimono and a man is wearing a kimono and a woman is wearing a kimono and a man is wearing a kimono', 'ru_translated': 'мужчина одет в кимоно, женщина одета в кимоно, мужчина одет в кимоно, женщина одета в кимоно, а мужчина одет в кимоно.', 'latency_blip2_s': 1.586, 'latency_mt_s': 0.302}\n",
      "{'image': '1010470346.jpg', 'reference': 'двое мужчин в светящихся жилетах стоят рядом с припаркованными автомобилями перед небольшим зданием, один из них разговаривает с водителем, а мимо проезжает женщина на велосипеде', 'blip2_en': 'two men are parked in front of a building', 'ru_translated': 'Двое мужчин припарковались перед зданием.', 'latency_blip2_s': 0.435, 'latency_mt_s': 0.076}\n",
      "{'image': '1010673430.jpg', 'reference': 'Маленькая девочка в розовой рубашке и маленькая девочка в оранжевой рубашке сидят на траве.', 'blip2_en': 'a little girl is eating a snack in the grass', 'ru_translated': 'маленькая девочка ест закусок в траве', 'latency_blip2_s': 0.428, 'latency_mt_s': 0.077}\n",
      "{'image': '101093029.jpg', 'reference': 'Человек в коричневых штанах находится внутри серебристого подвижного объекта, а люди наблюдают за ним.', 'blip2_en': 'a group of people are standing in front of a building', 'ru_translated': 'группа людей стоит перед зданием', 'latency_blip2_s': 0.633, 'latency_mt_s': 0.049}\n",
      "{'image': '101093045.jpg', 'reference': 'Человек в черном приближается к странному серебряному предмету , внутри которого находится человек , в то время как множество зевак наблюдают за происходящим из-за огороженного веревкой барьера.', 'blip2_en': 'a man is standing in front of a sculpture', 'ru_translated': 'Человек стоит перед скульптурой', 'latency_blip2_s': 0.472, 'latency_mt_s': 0.065}\n",
      "{'image': '1011572216.jpg', 'reference': 'жених и невеста идут бок о бок не в фокусе по дорожке рядом с кирпичным зданием.', 'blip2_en': 'the bride is wearing a white dress and the groom is wearing a black suit', 'ru_translated': 'Невеста носит белое платье, а жених - чёрный костюм.', 'latency_blip2_s': 0.518, 'latency_mt_s': 0.125}\n",
      "{'image': '1012212859.jpg', 'reference': 'Белая собака с коричневыми ушами стоит у воды, повернув голову набок.', 'blip2_en': 'a dog is playing with a frisbee on the beach', 'ru_translated': 'Собака играет с фрисби на пляже.', 'latency_blip2_s': 0.541, 'latency_mt_s': 0.08}\n",
      "{'image': '1012328893.jpg', 'reference': 'Группа людей устраивает пикник за столиками для пикника перед детской площадкой.', 'blip2_en': 'a group of people standing around a picnic table', 'ru_translated': 'группа людей, стоящих вокруг пикника', 'latency_blip2_s': 0.475, 'latency_mt_s': 0.054}\n",
      "{'image': '101262930.jpg', 'reference': 'Двое азиатов или испанцев , женщина и мужчина , сидят вместе перед стеклянной витриной , а мимо проезжают машины.', 'blip2_en': 'a man and a woman are posing for a picture', 'ru_translated': 'мужчину и женщину позируют на фотографию.', 'latency_blip2_s': 0.496, 'latency_mt_s': 0.081}\n",
      "{'image': '1013536888.jpg', 'reference': 'Женщины сидят за столом для пикника и едят , а на заднем плане стоит мужчина в белой футболке и с желто-оранжевым рисунком воздушного шара на голове.', 'blip2_en': 'a group of people are sitting at a picnic table', 'ru_translated': 'группа людей сидит за столом пикника.', 'latency_blip2_s': 0.494, 'latency_mt_s': 0.065}\n",
      "{'image': '101362133.jpg', 'reference': 'Молодая студентка наносит удар ногой вниз, чтобы сломать доску, которую держит ее инструктор по каратэ.', 'blip2_en': 'a girl is doing karate with a man', 'ru_translated': 'Девочка делает карате с мужчиной.', 'latency_blip2_s': 0.427, 'latency_mt_s': 0.066}\n",
      "{'image': '101362650.jpg', 'reference': 'Два человека демонстрируют толпе боевые искусства и перепрыгивают через трех подростков , которые скорчились на ковре.', 'blip2_en': 'a group of people are watching a taekwondo match', 'ru_translated': 'группа людей смотрит матч Тэквондо.', 'latency_blip2_s': 0.55, 'latency_mt_s': 0.083}\n",
      "{'image': '1014609273.jpg', 'reference': 'Люди на двух балконах и мужчина , карабкающийся по трубе к нижнему балкону , на которого льют жидкость .', 'blip2_en': 'a group of people are standing on a balcony watching a man climb a railing', 'ru_translated': 'группа людей стоит на балконе, наблюдая, как человек поднимается на перила', 'latency_blip2_s': 0.621, 'latency_mt_s': 0.115}\n",
      "{'image': '101471792.jpg', 'reference': 'Мужчина в красной куртке, прикрываясь от солнца, пытается прочитать что-то на листке бумаги.', 'blip2_en': 'a man in a red jacket is standing on a city street', 'ru_translated': 'Человек в красной куртке стоит на городской улице.', 'latency_blip2_s': 0.544, 'latency_mt_s': 0.076}\n",
      "{'image': '1014785440.jpg', 'reference': 'Двое мужчин несут детей на спине по улице в солнечный день в хорошем районе.', 'blip2_en': 'a group of people are walking down a street', 'ru_translated': 'группа людей идет по улице', 'latency_blip2_s': 0.497, 'latency_mt_s': 0.043}\n",
      "{'image': '1015118661.jpg', 'reference': 'Улыбающийся мальчик в белой рубашке и синих джинсах перед Рокволлом, а за ним мужчина в комбинезоне.', 'blip2_en': 'a boy is playing with a water hydrant', 'ru_translated': 'мальчик играет с водяным гидрантом.', 'latency_blip2_s': 0.542, 'latency_mt_s': 0.065}\n",
      "{'image': '1015584366.jpg', 'reference': 'Пестрая черно-серая собака в синем ошейнике перепрыгивает через поваленное дерево.', 'blip2_en': 'a dog is jumping over a log in a forest', 'ru_translated': 'Собака прыгает через бревно в лесу.', 'latency_blip2_s': 0.451, 'latency_mt_s': 0.092}\n",
      "{'image': '101559400.jpg', 'reference': 'Мужчины в деловых костюмах переходят улицу , а на улице собираются люди с плакатами.', 'blip2_en': 'a group of people are crossing a street in a city', 'ru_translated': 'группа людей пересекает улицу в городе', 'latency_blip2_s': 0.51, 'latency_mt_s': 0.064}\n",
      "{'image': '1015712668.jpg', 'reference': 'Мужчина в красной рубашке с длинными рукавами переезжает на велосипеде водоем по мосту.', 'blip2_en': 'a man is riding a bike on a bridge', 'ru_translated': 'Человек едет на велосипеде на мосту.', 'latency_blip2_s': 0.475, 'latency_mt_s': 0.065}\n",
      "{'image': '10160966.jpg', 'reference': 'Босой мужчина в оливково-зеленых шортах жарит хот-доги на маленьком пропановом гриле, держа в руках синий пластиковый стаканчик.', 'blip2_en': 'a man is grilling hot dogs on a grill with a beer in his hand', 'ru_translated': 'Человек жарит хот-доги на гриле с пивом в руке.', 'latency_blip2_s': 0.565, 'latency_mt_s': 0.125}\n",
      "{'image': '101654506.jpg', 'reference': 'Бело-коричневая собака бежит по поверхности снега.', 'blip2_en': 'a dog is running in the snow', 'ru_translated': 'Собака бежит по снегу.', 'latency_blip2_s': 0.382, 'latency_mt_s': 0.066}\n",
      "{'image': '1016626169.jpg', 'reference': 'Человек на скутере привлекает внимание некоторых из тех, кто находится в большой толпе.', 'blip2_en': 'a group of people are standing on a street corner', 'ru_translated': 'группа людей стоит на углу улицы', 'latency_blip2_s': 0.403, 'latency_mt_s': 0.049}\n",
      "{'image': '101669240.jpg', 'reference': 'Человек в лыжах смотрит на фотографии в рамках , расставленные на снегу .', 'blip2_en': 'a man on skis is standing next to a display of paintings', 'ru_translated': 'Человек на лыжах стоит рядом с показом картин', 'latency_blip2_s': 0.546, 'latency_mt_s': 0.095}\n",
      "{'image': '1016887272.jpg', 'reference': 'Несколько альпинистов в ряд взбираются на скалу, в то время как человек в красном наблюдает за ними и держит линию.', 'blip2_en': 'a group of people are climbing a rock wall', 'ru_translated': 'группа людей лазает по каменной стене', 'latency_blip2_s': 0.41, 'latency_mt_s': 0.068}\n",
      "{'image': '1017675163.jpg', 'reference': 'Молодая гимнастка прыгает высоко в воздух , выполняя упражнения на бревне.', 'blip2_en': 'a girl is doing a gymnastics routine in front of a crowd', 'ru_translated': 'Девочка занимается гимнастикой перед толпой.', 'latency_blip2_s': 0.568, 'latency_mt_s': 0.087}\n",
      "{'image': '1018057225.jpg', 'reference': 'мальчик в черной футболке и синих джинсах катает игрушечный трехколесный велосипед вокруг небольшого бассейна.', 'blip2_en': 'A man is riding a lawnmower around an inflatable pool', 'ru_translated': 'Человек катается на газонокосилке вокруг надувного бассейна', 'latency_blip2_s': 0.566, 'latency_mt_s': 0.109}\n",
      "{'image': '1018148011.jpg', 'reference': 'Группа людей стоит в кузове грузовика, груженного хлопком.', 'blip2_en': 'a truck with a load of cotton on top of it', 'ru_translated': 'Грузовик с кучей хлопка наверху.', 'latency_blip2_s': 0.451, 'latency_mt_s': 0.092}\n",
      "{'image': '101859883.jpg', 'reference': 'женщина в красной куртке и платке на голове смотрит на живописный вид залива в платный бинокль на смотровой площадке.', 'blip2_en': 'a woman is taking a picture of a city from the top of a building', 'ru_translated': 'Женщина фотографирует город с крыши здания', 'latency_blip2_s': 0.587, 'latency_mt_s': 0.071}\n",
      "{'image': '10188041.jpg', 'reference': 'Мужчина в черном пальто проходит мимо красного космического корабля с приклеенным к стеклу парковочным талоном.', 'blip2_en': 'a man is standing in front of a large red ball that is lit up', 'ru_translated': 'Человек стоит перед большим красным шаром, который загорелся.', 'latency_blip2_s': 0.531, 'latency_mt_s': 0.095}\n",
      "Лог сохранён в /home/jovyan/work/tiflo_caption/logs/run_notebook_20250703_121538.jsonl\n"
     ]
    }
   ],
   "source": [
    "timestamp = time.strftime(\"%Y%m%d_%H%M%S\")\n",
    "log_path  = LOGS_DIR / f\"run_notebook_{timestamp}.jsonl\"\n",
    "print(\"Logging to:\", log_path)\n",
    "\n",
    "with open(ANNOT_CSV, encoding=\"utf-8\", newline=\"\") as fin, \\\n",
    "     open(log_path, \"w\", encoding=\"utf-8\") as fout:\n",
    "\n",
    "    dialect = csv.Sniffer().sniff(fin.read(2048), delimiters=[\",\",\";\",\"\\t\"])\n",
    "    fin.seek(0)\n",
    "    reader = csv.DictReader(fin, dialect=dialect)\n",
    "    image_field, ref_field = reader.fieldnames[:2]\n",
    "\n",
    "    for row in reader:\n",
    "        img_name = row[image_field]\n",
    "        ref_text = row.get(ref_field, \"\")\n",
    "        img_path = IMAGES_DIR / img_name\n",
    "\n",
    "        if not img_path.exists():\n",
    "            print(f\"[WARN] нет файла: {img_name}\")\n",
    "            continue\n",
    "\n",
    "        img    = Image.open(img_path).convert(\"RGB\")\n",
    "        inputs = processor(images=img, text=PROMPT, return_tensors=\"pt\").to(device)\n",
    "\n",
    "        t0  = time.time()\n",
    "        out = model.generate(**inputs, max_new_tokens=64, num_beams=5)\n",
    "        t1  = time.time()\n",
    "        en_cap = processor.decode(out[0], skip_special_tokens=True)\n",
    "\n",
    "        t2     = time.time()\n",
    "        ru_cap = translator(\n",
    "            en_cap,\n",
    "            max_length=128,\n",
    "            clean_up_tokenization_spaces=True\n",
    "        )[0][\"translation_text\"]\n",
    "        t3     = time.time()\n",
    "\n",
    "        rec = {\n",
    "            \"image\":           img_name,\n",
    "            \"reference\":       ref_text,\n",
    "            \"blip2_en\":        en_cap,\n",
    "            \"ru_translated\":   ru_cap,\n",
    "            \"latency_blip2_s\": round(t1 - t0, 3),\n",
    "            \"latency_mt_s\":    round(t3 - t2, 3)\n",
    "        }\n",
    "        fout.write(json.dumps(rec, ensure_ascii=False) + \"\\n\")\n",
    "        print(rec)\n",
    "\n",
    "print(\"Лог сохранён в\", log_path)"
   ]
  },
  {
   "cell_type": "code",
   "execution_count": null,
   "id": "dd2a9047-67b5-4764-92bf-fbe0b83b5714",
   "metadata": {},
   "outputs": [],
   "source": []
  }
 ],
 "metadata": {
  "kernelspec": {
   "display_name": "Python 3 (ipykernel)",
   "language": "python",
   "name": "python3"
  },
  "language_info": {
   "codemirror_mode": {
    "name": "ipython",
    "version": 3
   },
   "file_extension": ".py",
   "mimetype": "text/x-python",
   "name": "python",
   "nbconvert_exporter": "python",
   "pygments_lexer": "ipython3",
   "version": "3.11.8"
  }
 },
 "nbformat": 4,
 "nbformat_minor": 5
}
